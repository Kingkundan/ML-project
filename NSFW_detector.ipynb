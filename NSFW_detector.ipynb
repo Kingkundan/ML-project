{
  "nbformat": 4,
  "nbformat_minor": 0,
  "metadata": {
    "colab": {
      "name": "NSFW_detector_gants.ipynb",
      "provenance": [],
      "collapsed_sections": [],
      "mount_file_id": "1NMlw6CHOYMglO3wlhaRIBHJFR9_NkjQB",
      "authorship_tag": "ABX9TyPoLs/ogPZkAVRhnjMJ3PYV",
      "include_colab_link": true
    },
    "kernelspec": {
      "name": "python3",
      "display_name": "Python 3"
    }
  },
  "cells": [
    {
      "cell_type": "markdown",
      "metadata": {
        "id": "view-in-github",
        "colab_type": "text"
      },
      "source": [
        "<a href=\"https://colab.research.google.com/github/Kingkundan/ML-project/blob/master/NSFW_detector.ipynb\" target=\"_parent\"><img src=\"https://colab.research.google.com/assets/colab-badge.svg\" alt=\"Open In Colab\"/></a>"
      ]
    },
    {
      "cell_type": "code",
      "metadata": {
        "id": "6akNi73ymdvn",
        "colab_type": "code",
        "colab": {
          "base_uri": "https://localhost:8080/",
          "height": 136
        },
        "outputId": "6fe9f690-6ba1-4522-8c87-b51fea9fa5d1"
      },
      "source": [
        "!git clone https://github.com/GantMan/nsfw_model.git"
      ],
      "execution_count": 6,
      "outputs": [
        {
          "output_type": "stream",
          "text": [
            "Cloning into 'nsfw_model'...\n",
            "remote: Enumerating objects: 101, done.\u001b[K\n",
            "remote: Counting objects: 100% (101/101), done.\u001b[K\n",
            "remote: Compressing objects: 100% (69/69), done.\u001b[K\n",
            "remote: Total 394 (delta 47), reused 67 (delta 25), pack-reused 293\u001b[K\n",
            "Receiving objects: 100% (394/394), 386.54 KiB | 732.00 KiB/s, done.\n",
            "Resolving deltas: 100% (200/200), done.\n"
          ],
          "name": "stdout"
        }
      ]
    },
    {
      "cell_type": "code",
      "metadata": {
        "id": "a8lw10ywZecQ",
        "colab_type": "code",
        "colab": {}
      },
      "source": [
        "pip install /content/nsfw_model"
      ],
      "execution_count": null,
      "outputs": []
    },
    {
      "cell_type": "code",
      "metadata": {
        "id": "t7s0I_EBbiLW",
        "colab_type": "code",
        "colab": {
          "base_uri": "https://localhost:8080/",
          "height": 156
        },
        "outputId": "dab10cb0-12d3-4ebb-fdc5-0280f658e3f9"
      },
      "source": [
        "from nsfw_detector import predict\n",
        "model = predict.load_model('/content/drive/My Drive/nsfw_mobilenet2.224x224.h5')\n",
        "\n",
        "# Predict single image\n",
        "predict.classify(model, '/content/drive/My Drive/NS_forGdrive/alpha5.jpg')"
      ],
      "execution_count": 9,
      "outputs": [
        {
          "output_type": "stream",
          "text": [
            "WARNING:tensorflow:Error in loading the saved optimizer state. As a result, your model is starting with a freshly initialized optimizer.\n",
            "/content/drive/My Drive/NS_forGdrive/alpha5.jpg size: (224, 224)\n"
          ],
          "name": "stdout"
        },
        {
          "output_type": "execute_result",
          "data": {
            "text/plain": [
              "{'/content/drive/My Drive/NS_forGdrive/alpha5.jpg': {'drawings': 0.00045049111940898,\n",
              "  'hentai': 0.001430320437066257,\n",
              "  'neutral': 0.031628433614969254,\n",
              "  'porn': 0.15195956826210022,\n",
              "  'sexy': 0.814531147480011}}"
            ]
          },
          "metadata": {
            "tags": []
          },
          "execution_count": 9
        }
      ]
    }
  ]
}