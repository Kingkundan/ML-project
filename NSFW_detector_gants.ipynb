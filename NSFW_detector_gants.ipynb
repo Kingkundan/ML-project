{
  "nbformat": 4,
  "nbformat_minor": 0,
  "metadata": {
    "colab": {
      "name": "NSFW_detector_gants.ipynb",
      "provenance": [],
      "collapsed_sections": [],
      "toc_visible": true,
      "mount_file_id": "1NMlw6CHOYMglO3wlhaRIBHJFR9_NkjQB",
      "authorship_tag": "ABX9TyN5y6uVipoDAGkpfBQcrUPs",
      "include_colab_link": true
    },
    "kernelspec": {
      "name": "python3",
      "display_name": "Python 3"
    }
  },
  "cells": [
    {
      "cell_type": "markdown",
      "metadata": {
        "id": "view-in-github",
        "colab_type": "text"
      },
      "source": [
        "<a href=\"https://colab.research.google.com/github/Kingkundan/ML-project/blob/master/NSFW_detector_gants.ipynb\" target=\"_parent\"><img src=\"https://colab.research.google.com/assets/colab-badge.svg\" alt=\"Open In Colab\"/></a>"
      ]
    },
    {
      "cell_type": "markdown",
      "metadata": {
        "id": "iVj6tOvf-eQH",
        "colab_type": "text"
      },
      "source": [
        "# NSFW detector test **Works !!!!!"
      ]
    },
    {
      "cell_type": "code",
      "metadata": {
        "id": "6akNi73ymdvn",
        "colab_type": "code",
        "colab": {
          "base_uri": "https://localhost:8080/",
          "height": 141
        },
        "outputId": "0e203f37-1e44-4ea4-b2e8-a66adf32305b"
      },
      "source": [
        "!git clone https://github.com/GantMan/nsfw_model.git"
      ],
      "execution_count": null,
      "outputs": [
        {
          "output_type": "stream",
          "text": [
            "Cloning into 'nsfw_model'...\n",
            "remote: Enumerating objects: 101, done.\u001b[K\n",
            "remote: Counting objects:   0% (1/101)\u001b[K\rremote: Counting objects:   1% (2/101)\u001b[K\rremote: Counting objects:   2% (3/101)\u001b[K\rremote: Counting objects:   3% (4/101)\u001b[K\rremote: Counting objects:   4% (5/101)\u001b[K\rremote: Counting objects:   5% (6/101)\u001b[K\rremote: Counting objects:   6% (7/101)\u001b[K\rremote: Counting objects:   7% (8/101)\u001b[K\rremote: Counting objects:   8% (9/101)\u001b[K\rremote: Counting objects:   9% (10/101)\u001b[K\rremote: Counting objects:  10% (11/101)\u001b[K\rremote: Counting objects:  11% (12/101)\u001b[K\rremote: Counting objects:  12% (13/101)\u001b[K\rremote: Counting objects:  13% (14/101)\u001b[K\rremote: Counting objects:  14% (15/101)\u001b[K\rremote: Counting objects:  15% (16/101)\u001b[K\rremote: Counting objects:  16% (17/101)\u001b[K\rremote: Counting objects:  17% (18/101)\u001b[K\rremote: Counting objects:  18% (19/101)\u001b[K\rremote: Counting objects:  19% (20/101)\u001b[K\rremote: Counting objects:  20% (21/101)\u001b[K\rremote: Counting objects:  21% (22/101)\u001b[K\rremote: Counting objects:  22% (23/101)\u001b[K\rremote: Counting objects:  23% (24/101)\u001b[K\rremote: Counting objects:  24% (25/101)\u001b[K\rremote: Counting objects:  25% (26/101)\u001b[K\rremote: Counting objects:  26% (27/101)\u001b[K\rremote: Counting objects:  27% (28/101)\u001b[K\rremote: Counting objects:  28% (29/101)\u001b[K\rremote: Counting objects:  29% (30/101)\u001b[K\rremote: Counting objects:  30% (31/101)\u001b[K\rremote: Counting objects:  31% (32/101)\u001b[K\rremote: Counting objects:  32% (33/101)\u001b[K\rremote: Counting objects:  33% (34/101)\u001b[K\rremote: Counting objects:  34% (35/101)\u001b[K\rremote: Counting objects:  35% (36/101)\u001b[K\rremote: Counting objects:  36% (37/101)\u001b[K\rremote: Counting objects:  37% (38/101)\u001b[K\rremote: Counting objects:  38% (39/101)\u001b[K\rremote: Counting objects:  39% (40/101)\u001b[K\rremote: Counting objects:  40% (41/101)\u001b[K\rremote: Counting objects:  41% (42/101)\u001b[K\rremote: Counting objects:  42% (43/101)\u001b[K\rremote: Counting objects:  43% (44/101)\u001b[K\rremote: Counting objects:  44% (45/101)\u001b[K\rremote: Counting objects:  45% (46/101)\u001b[K\rremote: Counting objects:  46% (47/101)\u001b[K\rremote: Counting objects:  47% (48/101)\u001b[K\rremote: Counting objects:  48% (49/101)\u001b[K\rremote: Counting objects:  49% (50/101)\u001b[K\rremote: Counting objects:  50% (51/101)\u001b[K\rremote: Counting objects:  51% (52/101)\u001b[K\rremote: Counting objects:  52% (53/101)\u001b[K\rremote: Counting objects:  53% (54/101)\u001b[K\rremote: Counting objects:  54% (55/101)\u001b[K\rremote: Counting objects:  55% (56/101)\u001b[K\rremote: Counting objects:  56% (57/101)\u001b[K\rremote: Counting objects:  57% (58/101)\u001b[K\rremote: Counting objects:  58% (59/101)\u001b[K\rremote: Counting objects:  59% (60/101)\u001b[K\rremote: Counting objects:  60% (61/101)\u001b[K\rremote: Counting objects:  61% (62/101)\u001b[K\rremote: Counting objects:  62% (63/101)\u001b[K\rremote: Counting objects:  63% (64/101)\u001b[K\rremote: Counting objects:  64% (65/101)\u001b[K\rremote: Counting objects:  65% (66/101)\u001b[K\rremote: Counting objects:  66% (67/101)\u001b[K\rremote: Counting objects:  67% (68/101)\u001b[K\rremote: Counting objects:  68% (69/101)\u001b[K\rremote: Counting objects:  69% (70/101)\u001b[K\rremote: Counting objects:  70% (71/101)\u001b[K\rremote: Counting objects:  71% (72/101)\u001b[K\rremote: Counting objects:  72% (73/101)\u001b[K\rremote: Counting objects:  73% (74/101)\u001b[K\rremote: Counting objects:  74% (75/101)\u001b[K\rremote: Counting objects:  75% (76/101)\u001b[K\rremote: Counting objects:  76% (77/101)\u001b[K\rremote: Counting objects:  77% (78/101)\u001b[K\rremote: Counting objects:  78% (79/101)\u001b[K\rremote: Counting objects:  79% (80/101)\u001b[K\rremote: Counting objects:  80% (81/101)\u001b[K\rremote: Counting objects:  81% (82/101)\u001b[K\rremote: Counting objects:  82% (83/101)\u001b[K\rremote: Counting objects:  83% (84/101)\u001b[K\rremote: Counting objects:  84% (85/101)\u001b[K\rremote: Counting objects:  85% (86/101)\u001b[K\rremote: Counting objects:  86% (87/101)\u001b[K\rremote: Counting objects:  87% (88/101)\u001b[K\rremote: Counting objects:  88% (89/101)\u001b[K\rremote: Counting objects:  89% (90/101)\u001b[K\rremote: Counting objects:  90% (91/101)\u001b[K\rremote: Counting objects:  91% (92/101)\u001b[K\rremote: Counting objects:  92% (93/101)\u001b[K\rremote: Counting objects:  93% (94/101)\u001b[K\rremote: Counting objects:  94% (95/101)\u001b[K\rremote: Counting objects:  95% (96/101)\u001b[K\rremote: Counting objects:  96% (97/101)\u001b[K\rremote: Counting objects:  97% (98/101)\u001b[K\rremote: Counting objects:  98% (99/101)\u001b[K\rremote: Counting objects:  99% (100/101)\rremote: Counting objects: 100% (101/101)\u001b[K\rremote: Counting objects: 100% (101/101), done.\u001b[K\n",
            "remote: Compressing objects: 100% (69/69), done.\u001b[K\n",
            "remote: Total 394 (delta 47), reused 67 (delta 25), pack-reused 293\u001b[K\n",
            "Receiving objects: 100% (394/394), 386.54 KiB | 1.47 MiB/s, done.\n",
            "Resolving deltas: 100% (200/200), done.\n"
          ],
          "name": "stdout"
        }
      ]
    },
    {
      "cell_type": "code",
      "metadata": {
        "id": "a8lw10ywZecQ",
        "colab_type": "code",
        "colab": {
          "base_uri": "https://localhost:8080/",
          "height": 1000
        },
        "outputId": "57374936-9a76-4432-de40-e06c7a53e004"
      },
      "source": [
        "pip install /content/nsfw_model"
      ],
      "execution_count": null,
      "outputs": [
        {
          "output_type": "stream",
          "text": [
            "Processing ./nsfw_model\n",
            "Collecting tensorflow>=2.1.0\n",
            "\u001b[?25l  Downloading https://files.pythonhosted.org/packages/3d/be/679ce5254a8c8d07470efb4a4c00345fae91f766e64f1c2aece8796d7218/tensorflow-2.2.0-cp36-cp36m-manylinux2010_x86_64.whl (516.2MB)\n",
            "\u001b[K     |████████████████████████████████| 516.2MB 32kB/s \n",
            "\u001b[?25hCollecting tensorflow-hub==0.7.0\n",
            "\u001b[?25l  Downloading https://files.pythonhosted.org/packages/00/0e/a91780d07592b1abf9c91344ce459472cc19db3b67fdf3a61dca6ebb2f5c/tensorflow_hub-0.7.0-py2.py3-none-any.whl (89kB)\n",
            "\u001b[K     |████████████████████████████████| 92kB 8.0MB/s \n",
            "\u001b[?25hRequirement already satisfied: pillow in /usr/local/lib/python3.6/dist-packages (from nsfw-detector==1.1.1) (7.0.0)\n",
            "Requirement already satisfied: astunparse==1.6.3 in /usr/local/lib/python3.6/dist-packages (from tensorflow>=2.1.0->nsfw-detector==1.1.1) (1.6.3)\n",
            "Requirement already satisfied: six>=1.12.0 in /usr/local/lib/python3.6/dist-packages (from tensorflow>=2.1.0->nsfw-detector==1.1.1) (1.15.0)\n",
            "Requirement already satisfied: gast==0.3.3 in /usr/local/lib/python3.6/dist-packages (from tensorflow>=2.1.0->nsfw-detector==1.1.1) (0.3.3)\n",
            "Requirement already satisfied: absl-py>=0.7.0 in /usr/local/lib/python3.6/dist-packages (from tensorflow>=2.1.0->nsfw-detector==1.1.1) (0.9.0)\n",
            "Requirement already satisfied: google-pasta>=0.1.8 in /usr/local/lib/python3.6/dist-packages (from tensorflow>=2.1.0->nsfw-detector==1.1.1) (0.2.0)\n",
            "Requirement already satisfied: keras-preprocessing>=1.1.0 in /usr/local/lib/python3.6/dist-packages (from tensorflow>=2.1.0->nsfw-detector==1.1.1) (1.1.2)\n",
            "Requirement already satisfied: numpy<2.0,>=1.16.0 in /usr/local/lib/python3.6/dist-packages (from tensorflow>=2.1.0->nsfw-detector==1.1.1) (1.18.5)\n",
            "Requirement already satisfied: wrapt>=1.11.1 in /usr/local/lib/python3.6/dist-packages (from tensorflow>=2.1.0->nsfw-detector==1.1.1) (1.12.1)\n",
            "Requirement already satisfied: wheel>=0.26; python_version >= \"3\" in /usr/local/lib/python3.6/dist-packages (from tensorflow>=2.1.0->nsfw-detector==1.1.1) (0.34.2)\n",
            "Requirement already satisfied: opt-einsum>=2.3.2 in /usr/local/lib/python3.6/dist-packages (from tensorflow>=2.1.0->nsfw-detector==1.1.1) (3.3.0)\n",
            "Collecting tensorboard<2.3.0,>=2.2.0\n",
            "\u001b[?25l  Downloading https://files.pythonhosted.org/packages/1d/74/0a6fcb206dcc72a6da9a62dd81784bfdbff5fedb099982861dc2219014fb/tensorboard-2.2.2-py3-none-any.whl (3.0MB)\n",
            "\u001b[K     |████████████████████████████████| 3.0MB 42.7MB/s \n",
            "\u001b[?25hRequirement already satisfied: h5py<2.11.0,>=2.10.0 in /usr/local/lib/python3.6/dist-packages (from tensorflow>=2.1.0->nsfw-detector==1.1.1) (2.10.0)\n",
            "Requirement already satisfied: protobuf>=3.8.0 in /usr/local/lib/python3.6/dist-packages (from tensorflow>=2.1.0->nsfw-detector==1.1.1) (3.12.2)\n",
            "Requirement already satisfied: tensorflow-estimator<2.3.0,>=2.2.0 in /usr/local/lib/python3.6/dist-packages (from tensorflow>=2.1.0->nsfw-detector==1.1.1) (2.2.0)\n",
            "Requirement already satisfied: grpcio>=1.8.6 in /usr/local/lib/python3.6/dist-packages (from tensorflow>=2.1.0->nsfw-detector==1.1.1) (1.30.0)\n",
            "Requirement already satisfied: termcolor>=1.1.0 in /usr/local/lib/python3.6/dist-packages (from tensorflow>=2.1.0->nsfw-detector==1.1.1) (1.1.0)\n",
            "Requirement already satisfied: scipy==1.4.1; python_version >= \"3\" in /usr/local/lib/python3.6/dist-packages (from tensorflow>=2.1.0->nsfw-detector==1.1.1) (1.4.1)\n",
            "Requirement already satisfied: google-auth<2,>=1.6.3 in /usr/local/lib/python3.6/dist-packages (from tensorboard<2.3.0,>=2.2.0->tensorflow>=2.1.0->nsfw-detector==1.1.1) (1.17.2)\n",
            "Requirement already satisfied: markdown>=2.6.8 in /usr/local/lib/python3.6/dist-packages (from tensorboard<2.3.0,>=2.2.0->tensorflow>=2.1.0->nsfw-detector==1.1.1) (3.2.2)\n",
            "Requirement already satisfied: setuptools>=41.0.0 in /usr/local/lib/python3.6/dist-packages (from tensorboard<2.3.0,>=2.2.0->tensorflow>=2.1.0->nsfw-detector==1.1.1) (49.1.0)\n",
            "Requirement already satisfied: google-auth-oauthlib<0.5,>=0.4.1 in /usr/local/lib/python3.6/dist-packages (from tensorboard<2.3.0,>=2.2.0->tensorflow>=2.1.0->nsfw-detector==1.1.1) (0.4.1)\n",
            "Requirement already satisfied: werkzeug>=0.11.15 in /usr/local/lib/python3.6/dist-packages (from tensorboard<2.3.0,>=2.2.0->tensorflow>=2.1.0->nsfw-detector==1.1.1) (1.0.1)\n",
            "Requirement already satisfied: requests<3,>=2.21.0 in /usr/local/lib/python3.6/dist-packages (from tensorboard<2.3.0,>=2.2.0->tensorflow>=2.1.0->nsfw-detector==1.1.1) (2.23.0)\n",
            "Requirement already satisfied: tensorboard-plugin-wit>=1.6.0 in /usr/local/lib/python3.6/dist-packages (from tensorboard<2.3.0,>=2.2.0->tensorflow>=2.1.0->nsfw-detector==1.1.1) (1.7.0)\n",
            "Requirement already satisfied: cachetools<5.0,>=2.0.0 in /usr/local/lib/python3.6/dist-packages (from google-auth<2,>=1.6.3->tensorboard<2.3.0,>=2.2.0->tensorflow>=2.1.0->nsfw-detector==1.1.1) (4.1.1)\n",
            "Requirement already satisfied: pyasn1-modules>=0.2.1 in /usr/local/lib/python3.6/dist-packages (from google-auth<2,>=1.6.3->tensorboard<2.3.0,>=2.2.0->tensorflow>=2.1.0->nsfw-detector==1.1.1) (0.2.8)\n",
            "Requirement already satisfied: rsa<5,>=3.1.4; python_version >= \"3\" in /usr/local/lib/python3.6/dist-packages (from google-auth<2,>=1.6.3->tensorboard<2.3.0,>=2.2.0->tensorflow>=2.1.0->nsfw-detector==1.1.1) (4.6)\n",
            "Requirement already satisfied: importlib-metadata; python_version < \"3.8\" in /usr/local/lib/python3.6/dist-packages (from markdown>=2.6.8->tensorboard<2.3.0,>=2.2.0->tensorflow>=2.1.0->nsfw-detector==1.1.1) (1.7.0)\n",
            "Requirement already satisfied: requests-oauthlib>=0.7.0 in /usr/local/lib/python3.6/dist-packages (from google-auth-oauthlib<0.5,>=0.4.1->tensorboard<2.3.0,>=2.2.0->tensorflow>=2.1.0->nsfw-detector==1.1.1) (1.3.0)\n",
            "Requirement already satisfied: certifi>=2017.4.17 in /usr/local/lib/python3.6/dist-packages (from requests<3,>=2.21.0->tensorboard<2.3.0,>=2.2.0->tensorflow>=2.1.0->nsfw-detector==1.1.1) (2020.6.20)\n",
            "Requirement already satisfied: urllib3!=1.25.0,!=1.25.1,<1.26,>=1.21.1 in /usr/local/lib/python3.6/dist-packages (from requests<3,>=2.21.0->tensorboard<2.3.0,>=2.2.0->tensorflow>=2.1.0->nsfw-detector==1.1.1) (1.24.3)\n",
            "Requirement already satisfied: chardet<4,>=3.0.2 in /usr/local/lib/python3.6/dist-packages (from requests<3,>=2.21.0->tensorboard<2.3.0,>=2.2.0->tensorflow>=2.1.0->nsfw-detector==1.1.1) (3.0.4)\n",
            "Requirement already satisfied: idna<3,>=2.5 in /usr/local/lib/python3.6/dist-packages (from requests<3,>=2.21.0->tensorboard<2.3.0,>=2.2.0->tensorflow>=2.1.0->nsfw-detector==1.1.1) (2.10)\n",
            "Requirement already satisfied: pyasn1<0.5.0,>=0.4.6 in /usr/local/lib/python3.6/dist-packages (from pyasn1-modules>=0.2.1->google-auth<2,>=1.6.3->tensorboard<2.3.0,>=2.2.0->tensorflow>=2.1.0->nsfw-detector==1.1.1) (0.4.8)\n",
            "Requirement already satisfied: zipp>=0.5 in /usr/local/lib/python3.6/dist-packages (from importlib-metadata; python_version < \"3.8\"->markdown>=2.6.8->tensorboard<2.3.0,>=2.2.0->tensorflow>=2.1.0->nsfw-detector==1.1.1) (3.1.0)\n",
            "Requirement already satisfied: oauthlib>=3.0.0 in /usr/local/lib/python3.6/dist-packages (from requests-oauthlib>=0.7.0->google-auth-oauthlib<0.5,>=0.4.1->tensorboard<2.3.0,>=2.2.0->tensorflow>=2.1.0->nsfw-detector==1.1.1) (3.1.0)\n",
            "Building wheels for collected packages: nsfw-detector\n",
            "  Building wheel for nsfw-detector (setup.py) ... \u001b[?25l\u001b[?25hdone\n",
            "  Created wheel for nsfw-detector: filename=nsfw_detector-1.1.1-cp36-none-any.whl size=7274 sha256=9592abcbb8e5b91a0b703cdf6fc372fc0a8729ee7748898bfdd5447082baba34\n",
            "  Stored in directory: /tmp/pip-ephem-wheel-cache-swsa_3v8/wheels/4b/78/2b/70b04cbb606aaac197a39f74de060b8ce1436f782a1a6d908d\n",
            "Successfully built nsfw-detector\n",
            "Installing collected packages: tensorboard, tensorflow, tensorflow-hub, nsfw-detector\n",
            "  Found existing installation: tensorboard 1.8.0\n",
            "    Uninstalling tensorboard-1.8.0:\n",
            "      Successfully uninstalled tensorboard-1.8.0\n",
            "  Found existing installation: tensorflow 1.8.0\n",
            "    Uninstalling tensorflow-1.8.0:\n",
            "      Successfully uninstalled tensorflow-1.8.0\n",
            "  Found existing installation: tensorflow-hub 0.8.0\n",
            "    Uninstalling tensorflow-hub-0.8.0:\n",
            "      Successfully uninstalled tensorflow-hub-0.8.0\n",
            "Successfully installed nsfw-detector-1.1.1 tensorboard-2.2.2 tensorflow-2.2.0 tensorflow-hub-0.7.0\n"
          ],
          "name": "stdout"
        }
      ]
    },
    {
      "cell_type": "code",
      "metadata": {
        "id": "t7s0I_EBbiLW",
        "colab_type": "code",
        "colab": {
          "base_uri": "https://localhost:8080/",
          "height": 354
        },
        "outputId": "0770d14f-7cca-4f46-c0f1-1bdf41aa2206"
      },
      "source": [
        "# import tensorflow.compat.v1 as tf\n",
        "# tf.disable_v2_behavior()                                #for tensorflow placeholder error\n",
        "from nsfw_detector import predict\n",
        "model = predict.load_model('/content/drive/My Drive/nsfw_mobilenet2.224x224.h5')\n",
        "\n",
        "# Predict single image\n",
        "predict.classify(model, '/content/drive/My Drive/NS_forGdrive/NDES')"
      ],
      "execution_count": null,
      "outputs": [
        {
          "output_type": "stream",
          "text": [
            "WARNING:tensorflow:Error in loading the saved optimizer state. As a result, your model is starting with a freshly initialized optimizer.\n",
            "/content/drive/My Drive/NS_forGdrive/NDES/uper10059.jpg size: (224, 224)\n",
            "/content/drive/My Drive/NS_forGdrive/NDES/uper10060.jpg size: (224, 224)\n",
            "/content/drive/My Drive/NS_forGdrive/NDES/uper10064.jpg size: (224, 224)\n"
          ],
          "name": "stdout"
        },
        {
          "output_type": "execute_result",
          "data": {
            "text/plain": [
              "{'/content/drive/My Drive/NS_forGdrive/NDES/uper10059.jpg': {'drawings': 9.599440090823919e-05,\n",
              "  'hentai': 0.025812730193138123,\n",
              "  'neutral': 0.000570498057641089,\n",
              "  'porn': 0.7768521308898926,\n",
              "  'sexy': 0.1966686099767685},\n",
              " '/content/drive/My Drive/NS_forGdrive/NDES/uper10060.jpg': {'drawings': 1.9356270058779046e-05,\n",
              "  'hentai': 0.009162362664937973,\n",
              "  'neutral': 0.0006589805125258863,\n",
              "  'porn': 0.8658382296562195,\n",
              "  'sexy': 0.12432105839252472},\n",
              " '/content/drive/My Drive/NS_forGdrive/NDES/uper10064.jpg': {'drawings': 0.0005125553580000997,\n",
              "  'hentai': 0.0017496447544544935,\n",
              "  'neutral': 0.012627820484340191,\n",
              "  'porn': 0.06904502958059311,\n",
              "  'sexy': 0.9160649180412292}}"
            ]
          },
          "metadata": {
            "tags": []
          },
          "execution_count": 10
        }
      ]
    },
    {
      "cell_type": "markdown",
      "metadata": {
        "id": "zChwBFGb95gr",
        "colab_type": "text"
      },
      "source": [
        "# **Nudenet Tests**"
      ]
    },
    {
      "cell_type": "code",
      "metadata": {
        "id": "r9evkOfcvqQN",
        "colab_type": "code",
        "colab": {
          "base_uri": "https://localhost:8080/",
          "height": 34
        },
        "outputId": "9cb44c81-4573-4bb1-e2a2-e5e0ec73606e"
      },
      "source": [
        "!git clone https://github.com/bedapudi6788/NudeNet-models.git"
      ],
      "execution_count": null,
      "outputs": [
        {
          "output_type": "stream",
          "text": [
            "fatal: destination path 'NudeNet-models' already exists and is not an empty directory.\n"
          ],
          "name": "stdout"
        }
      ]
    },
    {
      "cell_type": "code",
      "metadata": {
        "id": "yeRW7cKR2zbf",
        "colab_type": "code",
        "colab": {}
      },
      "source": [
        "!git clone https://github.com/bedapudi6788/NudeNet"
      ],
      "execution_count": null,
      "outputs": []
    },
    {
      "cell_type": "code",
      "metadata": {
        "id": "ujqAUcdF9N8o",
        "colab_type": "code",
        "colab": {}
      },
      "source": [
        "# !pip install tensorflow==1.8"
      ],
      "execution_count": null,
      "outputs": []
    },
    {
      "cell_type": "code",
      "metadata": {
        "id": "NYERW6LhcXra",
        "colab_type": "code",
        "colab": {
          "base_uri": "https://localhost:8080/",
          "height": 194
        },
        "outputId": "8a0762ec-918e-489b-f44c-06fb9c226af0"
      },
      "source": [
        "pip show keras"
      ],
      "execution_count": null,
      "outputs": [
        {
          "output_type": "stream",
          "text": [
            "Name: Keras\n",
            "Version: 2.2.4\n",
            "Summary: Deep Learning for humans\n",
            "Home-page: https://github.com/keras-team/keras\n",
            "Author: Francois Chollet\n",
            "Author-email: francois.chollet@gmail.com\n",
            "License: MIT\n",
            "Location: /usr/local/lib/python3.6/dist-packages\n",
            "Requires: numpy, keras-preprocessing, six, pyyaml, keras-applications, h5py, scipy\n",
            "Required-by: textgenrnn, NudeNet, keras-vis, keras-retinanet, keras-resnet, kapre, fancyimpute\n"
          ],
          "name": "stdout"
        }
      ]
    },
    {
      "cell_type": "code",
      "metadata": {
        "id": "dsHSzvL8CgKe",
        "colab_type": "code",
        "colab": {
          "base_uri": "https://localhost:8080/",
          "height": 200
        },
        "outputId": "2d4299b6-1b21-431f-dd32-2359e86e24cb"
      },
      "source": [
        "pip show tensorflow"
      ],
      "execution_count": 1,
      "outputs": [
        {
          "output_type": "stream",
          "text": [
            "Name: tensorflow\n",
            "Version: 2.1.0\n",
            "Summary: TensorFlow is an open source machine learning framework for everyone.\n",
            "Home-page: https://www.tensorflow.org/\n",
            "Author: Google Inc.\n",
            "Author-email: packages@tensorflow.org\n",
            "License: Apache 2.0\n",
            "Location: /usr/local/lib/python3.6/dist-packages\n",
            "Requires: numpy, termcolor, scipy, grpcio, google-pasta, opt-einsum, astor, wheel, absl-py, tensorboard, protobuf, six, gast, keras-preprocessing, tensorflow-estimator, wrapt, keras-applications\n",
            "Required-by: nsfw-detector, fancyimpute\n"
          ],
          "name": "stdout"
        }
      ]
    },
    {
      "cell_type": "code",
      "metadata": {
        "id": "FTpyKQEM1UQ9",
        "colab_type": "code",
        "colab": {}
      },
      "source": [
        "pip install nudenet"
      ],
      "execution_count": null,
      "outputs": []
    },
    {
      "cell_type": "code",
      "metadata": {
        "id": "EM27GuBHlfVI",
        "colab_type": "code",
        "colab": {}
      },
      "source": [
        "pip install Keras==2.3.1 tensorflow==2.1.0"
      ],
      "execution_count": null,
      "outputs": []
    },
    {
      "cell_type": "code",
      "metadata": {
        "id": "IPDcomHo1wXC",
        "colab_type": "code",
        "colab": {
          "base_uri": "https://localhost:8080/",
          "height": 161
        },
        "outputId": "a660466e-a690-4f93-e228-1fc0f0b1b098"
      },
      "source": [
        "import tensorflow.compat.v1 as tf\n",
        "tf.disable_v2_behavior()\n",
        "from nudenet import NudeDetector\n",
        "\n",
        "detector = NudeDetector()\n",
        "path = '/content/drive/My Drive/NS_forGdrive/NDES/uper10060.jpg'\n",
        "# Performing detection\n",
        "detector.detect(path)\n",
        "# [{'box': [352, 688, 550, 858], 'score': 0.9603578, 'label': 'BELLY'}, {'box': [507, 896, 586, 1055], 'score': 0.94103414, 'label': 'F_GENITALIA'}, {'box': [221, 467, 552, 650], 'score': 0.8011624, 'label': 'F_BREAST'}, {'box': [359, 464, 543, 626], 'score': 0.6324697, 'label': 'F_BREAST'}]\n",
        "detector.censor(path, out_path='/content/detected_Nudenet.jpg', visualize=False)\n"
      ],
      "execution_count": 3,
      "outputs": [
        {
          "output_type": "stream",
          "text": [
            "tracking <tf.Variable 'Variable_10:0' shape=(9, 4) dtype=float32> anchors\n",
            "tracking <tf.Variable 'Variable_11:0' shape=(9, 4) dtype=float32> anchors\n",
            "tracking <tf.Variable 'Variable_12:0' shape=(9, 4) dtype=float32> anchors\n",
            "tracking <tf.Variable 'Variable_13:0' shape=(9, 4) dtype=float32> anchors\n",
            "tracking <tf.Variable 'Variable_14:0' shape=(9, 4) dtype=float32> anchors\n"
          ],
          "name": "stdout"
        },
        {
          "output_type": "stream",
          "text": [
            "/usr/local/lib/python3.6/dist-packages/keras/engine/saving.py:341: UserWarning: No training configuration found in save file: the model was *not* compiled. Compile it manually.\n",
            "  warnings.warn('No training configuration found in save file: '\n"
          ],
          "name": "stderr"
        }
      ]
    }
  ]
}