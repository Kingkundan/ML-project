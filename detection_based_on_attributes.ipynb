{
  "nbformat": 4,
  "nbformat_minor": 0,
  "metadata": {
    "colab": {
      "name": "detection_based_on_attributes",
      "provenance": [],
      "collapsed_sections": [],
      "include_colab_link": true
    },
    "kernelspec": {
      "name": "python3",
      "display_name": "Python 3"
    }
  },
  "cells": [
    {
      "cell_type": "markdown",
      "metadata": {
        "id": "view-in-github",
        "colab_type": "text"
      },
      "source": [
        "<a href=\"https://colab.research.google.com/github/Kingkundan/ML-project/blob/master/detection_based_on_attributes.ipynb\" target=\"_parent\"><img src=\"https://colab.research.google.com/assets/colab-badge.svg\" alt=\"Open In Colab\"/></a>"
      ]
    },
    {
      "cell_type": "code",
      "metadata": {
        "id": "6Hj97d8B6rXJ",
        "colab_type": "code",
        "colab": {}
      },
      "source": [
        "from sklearn import tree\n",
        "from sklearn import svm\n",
        "from sklearn.linear_model import SGDClassifier\n",
        "from sklearn.neighbors import KNeighborsClassifier\n",
        "from sklearn.metrics import accuracy_score"
      ],
      "execution_count": 0,
      "outputs": []
    },
    {
      "cell_type": "code",
      "metadata": {
        "id": "FnaRrHCh6v_A",
        "colab_type": "code",
        "colab": {}
      },
      "source": [
        "# [height, weight, shoe_size]\n",
        "X = [[181, 80, 44], [177, 70, 43], [160, 60, 38], [154, 54, 37], [166, 65, 40],\n",
        "     [190, 90, 47], [175, 64, 39],\n",
        "     [177, 70, 40], [159, 55, 37], [171, 75, 42], [181, 85, 43]]\n",
        "\n",
        "Y = ['male', 'male', 'female', 'female', 'male', 'male', 'female', 'female',\n",
        "     'female', 'male', 'male']"
      ],
      "execution_count": 0,
      "outputs": []
    },
    {
      "cell_type": "code",
      "metadata": {
        "id": "sgiyXAMk6ybA",
        "colab_type": "code",
        "colab": {}
      },
      "source": [
        "\n",
        "#Model 1\n",
        "clf1 = tree.DecisionTreeClassifier()\n",
        "#Model 2\n",
        "clf2 = svm.SVC()\n",
        "#Model 3\n",
        "clf3 = SGDClassifier()\n",
        "#Model 4\n",
        "clf4 = KNeighborsClassifier()"
      ],
      "execution_count": 0,
      "outputs": []
    },
    {
      "cell_type": "code",
      "metadata": {
        "id": "8Qfh6xwa60p1",
        "colab_type": "code",
        "colab": {
          "base_uri": "https://localhost:8080/",
          "height": 71
        },
        "outputId": "a8f4b657-92b5-4879-b1ca-c3d6a4ca7435"
      },
      "source": [
        "# Training on the dataset\n",
        "clf1 = clf1.fit(X, Y)\n",
        "clf2 = clf2.fit(X, Y)\n",
        "clf3 = clf3.fit(X ,Y)\n",
        "clf4 = clf4.fit(X ,Y)"
      ],
      "execution_count": 15,
      "outputs": [
        {
          "output_type": "stream",
          "text": [
            "/usr/local/lib/python3.6/dist-packages/sklearn/svm/base.py:193: FutureWarning: The default value of gamma will change from 'auto' to 'scale' in version 0.22 to account better for unscaled features. Set gamma explicitly to 'auto' or 'scale' to avoid this warning.\n",
            "  \"avoid this warning.\", FutureWarning)\n"
          ],
          "name": "stderr"
        }
      ]
    },
    {
      "cell_type": "code",
      "metadata": {
        "id": "ZPhEfa9663Gm",
        "colab_type": "code",
        "colab": {}
      },
      "source": [
        "# Prediction\n",
        "y_pred1=clf1.predict(X)\n",
        "prediction1 = clf1.predict([[190, 70, 43]])\n",
        "y_pred2=clf2.predict(X)\n",
        "prediction2 = clf2.predict([[190, 70, 43]])\n",
        "y_pred3=clf3.predict(X)\n",
        "prediction3 = clf3.predict([[170, 60, 35]])\n",
        "y_pred4=clf4.predict(X)\n",
        "prediction4 = clf4.predict([[190, 70, 43]])"
      ],
      "execution_count": 0,
      "outputs": []
    },
    {
      "cell_type": "code",
      "metadata": {
        "id": "PwjJ46XU65pj",
        "colab_type": "code",
        "colab": {
          "base_uri": "https://localhost:8080/",
          "height": 51
        },
        "outputId": "f6d64e80-3904-4c63-8625-a32f4d5467aa"
      },
      "source": [
        "# Compare the accuracy and result on new data\n",
        "acc1=accuracy_score(Y,y_pred1, normalize=False)\n",
        "acc2=accuracy_score(Y,y_pred2, normalize=False)\n",
        "acc3=accuracy_score(Y,y_pred3, normalize=False)\n",
        "acc4=accuracy_score(Y,y_pred4, normalize=False)\n",
        "\n",
        "print(acc1,acc2,acc3,acc4)\n",
        "print(prediction1,prediction2,prediction3,prediction4)\n",
        "\n",
        "#Model 1 DecisionTreeClassifier and Model 2 SVC performed well on this dataset."
      ],
      "execution_count": 30,
      "outputs": [
        {
          "output_type": "stream",
          "text": [
            "11 11 8 8\n",
            "['male'] ['male'] ['female'] ['male']\n"
          ],
          "name": "stdout"
        }
      ]
    }
  ]
}