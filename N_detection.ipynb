{
  "nbformat": 4,
  "nbformat_minor": 0,
  "metadata": {
    "colab": {
      "name": "N_detection.ipynb",
      "provenance": [],
      "collapsed_sections": [],
      "include_colab_link": true
    },
    "kernelspec": {
      "name": "python3",
      "display_name": "Python 3"
    }
  },
  "cells": [
    {
      "cell_type": "markdown",
      "metadata": {
        "id": "view-in-github",
        "colab_type": "text"
      },
      "source": [
        "<a href=\"https://colab.research.google.com/github/Kingkundan/ML-project/blob/master/N_detection.ipynb\" target=\"_parent\"><img src=\"https://colab.research.google.com/assets/colab-badge.svg\" alt=\"Open In Colab\"/></a>"
      ]
    },
    {
      "cell_type": "code",
      "metadata": {
        "id": "d6B_KwDw2B32",
        "colab_type": "code",
        "outputId": "f95f602d-c8c4-49ee-fc13-67210c5e30c6",
        "colab": {
          "base_uri": "https://localhost:8080/",
          "height": 425
        }
      },
      "source": [
        "from nudenet import NudeClassifier\n",
        "import cv2\n",
        "classifier = NudeClassifier()\n",
        "path =[\"112409_(5).jpg\",\n",
        "'1540602_ Bollywood Purple and Violet color Faux Georgette fabric Saree.jpg', \"222504_02.jpg\", \"410974152_3d1929e9a4_b.jpg\",\"617539c887ea2b72df6e57ac9d5ba800 (1).jpg\", \"6243191be68e6fc3348863562d4f2910.jpg\"]\n",
        "z=\"\"\n",
        "for l in path:\n",
        "  z1=classifier.classify(\"/content/drive/My Drive/NS_forGdrive/%s\" %l)\n",
        "  for z,x in z1.items():\n",
        "    z=x[\"safe\"]\n",
        "    y=x[\"unsafe\"]\n",
        "  print(\"\\n%s\" %l)\n",
        "  # print(\"\\n%s\\nsafe =%s\\nunsafe =%s\" %(l,z,y))\n",
        "  if y>.8:\n",
        "    print(\"\\nstrong nudity\")\n",
        "  elif y>.5:\n",
        "    print(\"\\nSexy\")\n",
        "  else:\n",
        "    print(\"\\nCasual\")\n",
        "# {'path_to_nude_image': {'safe': 5.8822202e-08, 'unsafe': 1.0}}"
      ],
      "execution_count": 54,
      "outputs": [
        {
          "output_type": "stream",
          "text": [
            "\n",
            "112409_(5).jpg\n",
            "\n",
            "strong nudity\n",
            "\n",
            "1540602_ Bollywood Purple and Violet color Faux Georgette fabric Saree.jpg\n",
            "\n",
            "Casual\n",
            "\n",
            "222504_02.jpg\n",
            "\n",
            "strong nudity\n",
            "\n",
            "410974152_3d1929e9a4_b.jpg\n",
            "\n",
            "Casual\n",
            "\n",
            "617539c887ea2b72df6e57ac9d5ba800 (1).jpg\n",
            "\n",
            "Sexy\n",
            "\n",
            "6243191be68e6fc3348863562d4f2910.jpg\n",
            "\n",
            "Casual\n"
          ],
          "name": "stdout"
        }
      ]
    }
  ]
}