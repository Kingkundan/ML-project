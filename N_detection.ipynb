{
  "nbformat": 4,
  "nbformat_minor": 0,
  "metadata": {
    "colab": {
      "name": "N_detection.ipynb",
      "provenance": [],
      "collapsed_sections": [],
      "include_colab_link": true
    },
    "kernelspec": {
      "name": "python3",
      "display_name": "Python 3"
    }
  },
  "cells": [
    {
      "cell_type": "markdown",
      "metadata": {
        "id": "view-in-github",
        "colab_type": "text"
      },
      "source": [
        "<a href=\"https://colab.research.google.com/github/Kingkundan/ML-project/blob/master/N_detection.ipynb\" target=\"_parent\"><img src=\"https://colab.research.google.com/assets/colab-badge.svg\" alt=\"Open In Colab\"/></a>"
      ]
    },
    {
      "cell_type": "code",
      "metadata": {
        "id": "_f84dFwr1cto",
        "colab_type": "code",
        "colab": {}
      },
      "source": [
        "pip install Git+https://github.com/bedapudi6788/NudeNet"
      ],
      "execution_count": 0,
      "outputs": []
    },
    {
      "cell_type": "code",
      "metadata": {
        "id": "d6B_KwDw2B32",
        "colab_type": "code",
        "colab": {
          "base_uri": "https://localhost:8080/",
          "height": 34
        },
        "outputId": "f8027fdb-1c47-463a-9f71-4aea625c3bcf"
      },
      "source": [
        "from nudenet import NudeClassifier\n",
        "classifier = NudeClassifier()\n",
        "z=classifier.classify('2.jpg')\n",
        "# {'path_to_nude_image': {'safe': 5.8822202e-08, 'unsafe': 1.0}}\n",
        "\n",
        "\n",
        "print(z.values())"
      ],
      "execution_count": 16,
      "outputs": [
        {
          "output_type": "stream",
          "text": [
            "dict_values([{'unsafe': 0.0029095681, 'safe': 0.99709046}])\n"
          ],
          "name": "stdout"
        }
      ]
    }
  ]
}